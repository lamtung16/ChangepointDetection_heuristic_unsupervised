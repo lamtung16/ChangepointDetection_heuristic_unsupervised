{
 "cells": [
  {
   "cell_type": "code",
   "execution_count": 1,
   "id": "6f582c71",
   "metadata": {},
   "outputs": [],
   "source": [
    "import numpy as np\n",
    "import matplotlib.pyplot as plt\n",
    "np.random.seed(123)"
   ]
  },
  {
   "cell_type": "code",
   "execution_count": 2,
   "id": "89e64829",
   "metadata": {},
   "outputs": [],
   "source": [
    "# 1. Generate synthetic data\n",
    "means = [0, 1, 0]\n",
    "stds = [0.3, 0.3, 0.3]\n",
    "sizes = [10, 10, 10]\n",
    "\n",
    "segments = [np.random.normal(loc=mean, scale=std, size=size)for mean, std, size in zip(means, stds, sizes)]\n",
    "X = np.concatenate(segments)\n",
    "X[26] = 1.2"
   ]
  },
  {
   "cell_type": "code",
   "execution_count": 3,
   "id": "4f431381",
   "metadata": {},
   "outputs": [],
   "source": [
    "# 2. MOSUM implementation\n",
    "def mosum_stat(X, G):\n",
    "    n = len(X)\n",
    "    T = np.zeros(n)\n",
    "    for k in range(G, n - G):\n",
    "        left = X[k-G:k]\n",
    "        right = X[k:k+G]\n",
    "        T[k] = (np.mean(right) - np.mean(left)) * np.sqrt(G / 2)\n",
    "    return T\n",
    "\n",
    "def local_var(X, G, k):\n",
    "    left = X[k-G:k]\n",
    "    right = X[k:k+G]\n",
    "    var = (np.var(left) + np.var(right)) / 2\n",
    "    return np.sqrt(var)\n",
    "\n",
    "def mosum_test(X, G, alpha=0.05):\n",
    "    n = len(X)\n",
    "    T = mosum_stat(X, G)\n",
    "    MOSUM = np.zeros(n)\n",
    "    for k in range(G, n-G):\n",
    "        std = local_var(X, G, k)\n",
    "        if std > 0:\n",
    "            MOSUM[k] = abs(T[k]) / std\n",
    "    \n",
    "    # Gumbel threshold (approximate)\n",
    "    x = n / G\n",
    "    a = np.sqrt(2 * np.log(x))\n",
    "    b = 2 * np.log(x) + 0.5 * np.log(np.log(x)) + np.log(3/2) - 0.5 * np.log(np.pi)\n",
    "    c_alpha = -np.log(np.log(1 / np.sqrt(1 - alpha)))\n",
    "    threshold = (b + c_alpha) / a\n",
    "    return MOSUM, threshold"
   ]
  },
  {
   "cell_type": "code",
   "execution_count": 4,
   "id": "6bc49922",
   "metadata": {},
   "outputs": [],
   "source": [
    "# 3. Detect changepoints\n",
    "G = 5\n",
    "MOSUM, threshold = mosum_test(X, G)\n",
    "changepoints = []\n",
    "above = MOSUM > threshold\n",
    "in_region = False\n",
    "for i in range(len(MOSUM)):\n",
    "    if above[i] and not in_region:\n",
    "        region_start = i\n",
    "        in_region = True\n",
    "    elif not above[i] and in_region:\n",
    "        region_end = i\n",
    "        peak = region_start + np.argmax(MOSUM[region_start:region_end])\n",
    "        changepoints.append(peak)\n",
    "        in_region = False"
   ]
  },
  {
   "cell_type": "code",
   "execution_count": 5,
   "id": "b38ae590",
   "metadata": {},
   "outputs": [
    {
     "data": {
      "image/png": "[encoded data removed]",
      "text/plain": [
       "<Figure size 800x150 with 1 Axes>"
      ]
     },
     "metadata": {},
     "output_type": "display_data"
    }
   ],
   "source": [
    "fig, ax = plt.subplots(figsize=(8, 1.5))\n",
    "ax.scatter(np.arange(len(X)), X, marker='o', color='black')\n",
    "for c in changepoints:\n",
    "    ax.axvline(x = c - 0.5, color='black', linestyle='--')\n",
    "ax.set_xlabel('Index')\n",
    "ax.set_ylabel('Value')\n",
    "plt.show()"
   ]
  }
 ],
 "metadata": {
  "kernelspec": {
   "display_name": "Python 3",
   "language": "python",
   "name": "python3"
  },
  "language_info": {
   "codemirror_mode": {
    "name": "ipython",
    "version": 3
   },
   "file_extension": ".py",
   "mimetype": "text/x-python",
   "name": "python",
   "nbconvert_exporter": "python",
   "pygments_lexer": "ipython3",
   "version": "3.11.9"
  }
 },
 "nbformat": 4,
 "nbformat_minor": 5
}
